{
  "cells": [
    {
      "cell_type": "markdown",
      "metadata": {
        "id": "dI5CMVL-Vy3w"
      },
      "source": [
        "# Funkcje"
      ]
    },
    {
      "cell_type": "markdown",
      "metadata": {
        "id": "3BjXagT3Vy3y"
      },
      "source": [
        "## Definiowanie Fukncji"
      ]
    },
    {
      "cell_type": "markdown",
      "metadata": {
        "id": "POXgxK2rVy38"
      },
      "source": [
        "- Widzieliśmy już pętle for jako sposób na przestrzeganie zasady DRY (Don't Repeat Yourself).\n",
        "- Następnym ważnym krokiem są funkcje.\n",
        "- Funkcje umożliwiają zaprogramowanie bloku kodu, który działa tylko po wywołaniu.\n",
        "- Oznacza to, że możemy uniknąć konieczności ponownego definiowania tych samych operacji, gdy wykonujemy je wielokrotnie.\n",
        "<br><br>\n",
        "- Funkcja przyjmuje parametry i zwraca dane wyjściowe.\n",
        "- Wartość przekazana jako parametr nazywana jest argumentem.\n",
        "- Funkcja powiązana z obiektem nazywana jest metodą.\n",
        "- Instancja funkcji nazywana jest wywołaniem funkcji.\n",
        "- Podstawowa składnia funkcji jest następująca:"
      ]
    },
    {
      "cell_type": "code",
      "execution_count": 13,
      "metadata": {
        "id": "QQXhPEwSVy3_"
      },
      "outputs": [],
      "source": [
        "# function definition\n",
        "def function_name (param1, param2 = 1):\n",
        "    '''\n",
        "    DOCSTRING: explains function\n",
        "    INPUT: Name (str)\n",
        "    OUTPUT: Hello Name (str)\n",
        "    '''\n",
        "    # add code to run\n",
        "    return(\"Hello \" + param1)"
      ]
    },
    {
      "cell_type": "code",
      "execution_count": 14,
      "metadata": {
        "colab": {
          "base_uri": "https://localhost:8080/",
          "height": 35
        },
        "id": "TNPBSGAYVy4A",
        "outputId": "4437c68c-26fa-4642-84d1-a6ea05f6ccac"
      },
      "outputs": [
        {
          "output_type": "execute_result",
          "data": {
            "text/plain": [
              "'Hello Zain'"
            ],
            "application/vnd.google.colaboratory.intrinsic+json": {
              "type": "string"
            }
          },
          "metadata": {},
          "execution_count": 14
        }
      ],
      "source": [
        "# function call\n",
        "function_name(\"Zain\")"
      ]
    },
    {
      "cell_type": "code",
      "execution_count": 15,
      "metadata": {
        "colab": {
          "base_uri": "https://localhost:8080/"
        },
        "id": "UMRQ7JHyVy4B",
        "outputId": "4ddb53e6-e5d7-4ad4-abf6-627ea4b62725"
      },
      "outputs": [
        {
          "output_type": "execute_result",
          "data": {
            "text/plain": [
              "<function __main__.function_name(param1, param2=1)>"
            ]
          },
          "metadata": {},
          "execution_count": 15
        }
      ],
      "source": [
        "function_name"
      ]
    },
    {
      "cell_type": "markdown",
      "metadata": {
        "id": "p051f_37Vy4C"
      },
      "source": [
        "- Słowo kluczowe __def__ pokazuje pythona, którego zamierzasz zdefiniować.\n",
        "- __Nazwa funkcji__ jest następna, nazwij wszystkie małe litery, oddzielone podkreśleniami, nie używaj wbudowanych słów kluczowych: zobacz PEP8 po szczegóły.\n",
        "- __Parametry__ zdefiniowane w nawiasach.\n",
        "- __Argumenty domyślne__ to argumenty, które mają wartość domyślną do przywrócenia, jeśli nie określono innej wartości. W tym przypadku param2 = 1 oznacza, że ​​param2 będzie wynosić 1, chyba że zostanie określone jako coś innego w wywołaniu funkcji.\n",
        "- __Dwukropek__ oznacza koniec linii definicji, następny wiersz będzie wcięty.\n",
        "- __Docstrings__ wyjaśnij, co robi funkcja: przeczytaj PEP257 lub google __*'python docstrings'*__, aby uzyskać wskazówki.\n",
        "- https://www.python.org/dev/peps/pep-0257/\n",
        "- Słowo kluczowe __return__ wskazuje wyjście funkcji.\n",
        "<br><br>\n",
        "- Wykonując wywołanie funkcji, piszemy nazwę funkcji, a po niej nawiasy zawierające argumenty do przekazania.\n",
        "- __POWOLNY BŁĄD: jeśli wywołasz funkcję bez nawiasów, nie będzie działać!!!__\n",
        "- Po prostu pokaże informacje o funkcji, w tym moduł, do którego należy, jej nazwę i parametry, które przyjmuje."
      ]
    },
    {
      "cell_type": "markdown",
      "metadata": {
        "id": "25CdS08cVy4E"
      },
      "source": [
        "## help()"
      ]
    },
    {
      "cell_type": "markdown",
      "metadata": {
        "id": "Gd81RUhVVy4F"
      },
      "source": [
        "- Możemy użyć funkcji help(), aby znaleźć dokumentację, jeśli nie wiemy, co robi funkcja.\n",
        "- Lub naciśnij Shift + Tab.\n",
        "- Aby uzyskać bardziej szczegółową dokumentację, lepiej znaleźć i wykorzystać pełną dokumentację funkcji (google it!)."
      ]
    },
    {
      "cell_type": "code",
      "execution_count": 11,
      "metadata": {
        "colab": {
          "base_uri": "https://localhost:8080/"
        },
        "id": "WzUEZyEgVy4I",
        "outputId": "e7064bf0-9683-4833-ec0c-3a3ac624ffd1"
      },
      "outputs": [
        {
          "output_type": "stream",
          "name": "stdout",
          "text": [
            "Help on function function_name in module __main__:\n",
            "\n",
            "function_name(param1, param2=1)\n",
            "    DOCSTRING: explains function\n",
            "    INPUT: Name (str)\n",
            "    OUTPUT: Hello Name (str)\n",
            "\n"
          ]
        }
      ],
      "source": [
        "help(function_name)"
      ]
    },
    {
      "cell_type": "code",
      "execution_count": 12,
      "metadata": {
        "colab": {
          "base_uri": "https://localhost:8080/"
        },
        "id": "YjqoI1fTVy4L",
        "outputId": "adc31d1c-8364-4b47-ce20-c8727a96f3aa"
      },
      "outputs": [
        {
          "output_type": "stream",
          "name": "stdout",
          "text": [
            "Help on built-in function print in module builtins:\n",
            "\n",
            "print(...)\n",
            "    print(value, ..., sep=' ', end='\\n', file=sys.stdout, flush=False)\n",
            "    \n",
            "    Prints the values to a stream, or to sys.stdout by default.\n",
            "    Optional keyword arguments:\n",
            "    file:  a file-like object (stream); defaults to the current sys.stdout.\n",
            "    sep:   string inserted between values, default a space.\n",
            "    end:   string appended after the last value, default a newline.\n",
            "    flush: whether to forcibly flush the stream.\n",
            "\n"
          ]
        }
      ],
      "source": [
        "help(print)"
      ]
    },
    {
      "cell_type": "markdown",
      "metadata": {
        "id": "uRaUAwCGVy4N"
      },
      "source": [
        "## Zakres zmiennej"
      ]
    },
    {
      "cell_type": "markdown",
      "metadata": {
        "id": "L1eEQ40oVy4N"
      },
      "source": [
        "- Zakres zmiennej odnosi się do części programu, które mogą odwoływać się do zmiennej.\n",
        "- Istnieją 2 rodzaje zasięgu: lokalny i globalny.\n",
        "— Do zmiennej zdefiniowanej wewnątrz funkcji można się odwoływać tylko wewnątrz tej funkcji: zakres lokalny.\n",
        "— Do zmiennej zdefiniowanej poza funkcją (w ogólnym skrypcie) można się odwoływać wewnątrz funkcji, ale nie można jej modyfikować wewnątrz funkcji (UnboundLocalError).\n",
        "- Aby zmienić go w funkcji, należy go ponownie zdefiniować w funkcji."
      ]
    },
    {
      "cell_type": "code",
      "execution_count": 9,
      "metadata": {
        "colab": {
          "base_uri": "https://localhost:8080/",
          "height": 330
        },
        "id": "bIqubrOoVy4N",
        "outputId": "f5c6e4ea-20e4-47db-8942-3cf215217b72"
      },
      "outputs": [
        {
          "output_type": "error",
          "ename": "UnboundLocalError",
          "evalue": "ignored",
          "traceback": [
            "\u001b[0;31m---------------------------------------------------------------------------\u001b[0m",
            "\u001b[0;31mUnboundLocalError\u001b[0m                         Traceback (most recent call last)",
            "\u001b[0;32m<ipython-input-9-104dbc483606>\u001b[0m in \u001b[0;36m<module>\u001b[0;34m\u001b[0m\n\u001b[1;32m      4\u001b[0m     \u001b[0mcounter\u001b[0m \u001b[0;34m+=\u001b[0m \u001b[0;36m12\u001b[0m \u001b[0;31m# add 12 to counter\u001b[0m\u001b[0;34m\u001b[0m\u001b[0;34m\u001b[0m\u001b[0m\n\u001b[1;32m      5\u001b[0m \u001b[0;34m\u001b[0m\u001b[0m\n\u001b[0;32m----> 6\u001b[0;31m \u001b[0madd_to_counter\u001b[0m\u001b[0;34m(\u001b[0m\u001b[0;34m)\u001b[0m\u001b[0;34m\u001b[0m\u001b[0;34m\u001b[0m\u001b[0m\n\u001b[0m",
            "\u001b[0;32m<ipython-input-9-104dbc483606>\u001b[0m in \u001b[0;36madd_to_counter\u001b[0;34m()\u001b[0m\n\u001b[1;32m      2\u001b[0m \u001b[0;34m\u001b[0m\u001b[0m\n\u001b[1;32m      3\u001b[0m \u001b[0;32mdef\u001b[0m \u001b[0madd_to_counter\u001b[0m\u001b[0;34m(\u001b[0m\u001b[0;34m)\u001b[0m\u001b[0;34m:\u001b[0m\u001b[0;34m\u001b[0m\u001b[0;34m\u001b[0m\u001b[0m\n\u001b[0;32m----> 4\u001b[0;31m     \u001b[0mcounter\u001b[0m \u001b[0;34m+=\u001b[0m \u001b[0;36m12\u001b[0m \u001b[0;31m# add 12 to counter\u001b[0m\u001b[0;34m\u001b[0m\u001b[0;34m\u001b[0m\u001b[0m\n\u001b[0m\u001b[1;32m      5\u001b[0m \u001b[0;34m\u001b[0m\u001b[0m\n\u001b[1;32m      6\u001b[0m \u001b[0madd_to_counter\u001b[0m\u001b[0;34m(\u001b[0m\u001b[0;34m)\u001b[0m\u001b[0;34m\u001b[0m\u001b[0;34m\u001b[0m\u001b[0m\n",
            "\u001b[0;31mUnboundLocalError\u001b[0m: local variable 'counter' referenced before assignment"
          ]
        }
      ],
      "source": [
        "counter = 0\n",
        "\n",
        "def add_to_counter():\n",
        "    counter += 12 # add 12 to counter\n",
        "\n",
        "add_to_counter()"
      ]
    },
    {
      "cell_type": "code",
      "execution_count": 10,
      "metadata": {
        "colab": {
          "base_uri": "https://localhost:8080/"
        },
        "id": "EwZEL2UfVy4O",
        "outputId": "b8a1e157-19d5-4b79-f10c-5177ac42a8b2"
      },
      "outputs": [
        {
          "output_type": "stream",
          "name": "stdout",
          "text": [
            "12\n"
          ]
        }
      ],
      "source": [
        "counter = 0\n",
        "\n",
        "def add_to_counter(count):\n",
        "    return count + 12  # add 12 to counter\n",
        "\n",
        "counter = add_to_counter(counter)\n",
        "\n",
        "print(counter)"
      ]
    },
    {
      "cell_type": "markdown",
      "metadata": {
        "id": "zxZJ38imVy4P"
      },
      "source": [
        "## Ćwiczenie 1"
      ]
    },
    {
      "cell_type": "markdown",
      "metadata": {
        "id": "gUuOcMhrVy4P"
      },
      "source": [
        "Napisz funkcję o nazwie check_range, która sprawdza, czy liczba znajduje się w podanym zakresie (zawiera zarówno niski *__i__* wysoki). <br>\n",
        "Jeśli tak, zwróć „x jest między y a z”. <br>\n",
        "Jeśli tak nie jest, zwróć „x NIE jest między y a z”. <br>\n",
        "Gdzie:\n",
        "- x to liczba\n",
        "- y jest dolną granicą\n",
        "- z to górna granica"
      ]
    },
    {
      "cell_type": "code",
      "execution_count": 18,
      "metadata": {
        "id": "gy2fFsdVVy4Q"
      },
      "outputs": [],
      "source": [
        "def check_range (x, y, z):\n",
        "  if x>=y and x<=z:\n",
        "    return \"{x} jest między {y} a {z}\".format(x = x, y = y, z = z)\n",
        "  else:\n",
        "    return \"{x} NIE jest między {y} a {z}\".format(x = x, y = y, z = z)"
      ]
    },
    {
      "cell_type": "code",
      "execution_count": 19,
      "metadata": {
        "colab": {
          "base_uri": "https://localhost:8080/",
          "height": 35
        },
        "id": "Dp-iz0akVy4R",
        "outputId": "82f61b4c-1fdb-4acd-823c-0511e9e6a353"
      },
      "outputs": [
        {
          "output_type": "execute_result",
          "data": {
            "text/plain": [
              "'34 jest między 9 a 228'"
            ],
            "application/vnd.google.colaboratory.intrinsic+json": {
              "type": "string"
            }
          },
          "metadata": {},
          "execution_count": 19
        }
      ],
      "source": [
        "check_range(34, 9, 228)"
      ]
    },
    {
      "cell_type": "code",
      "execution_count": 20,
      "metadata": {
        "colab": {
          "base_uri": "https://localhost:8080/",
          "height": 35
        },
        "id": "00x1YtvyVy4R",
        "outputId": "466147bb-8ef7-4339-e900-519efd89a8f0"
      },
      "outputs": [
        {
          "output_type": "execute_result",
          "data": {
            "text/plain": [
              "'7 NIE jest między 2 a 5'"
            ],
            "application/vnd.google.colaboratory.intrinsic+json": {
              "type": "string"
            }
          },
          "metadata": {},
          "execution_count": 20
        }
      ],
      "source": [
        "check_range(7, 2, 5)"
      ]
    },
    {
      "cell_type": "markdown",
      "metadata": {
        "id": "0chEMosWVy4R"
      },
      "source": [
        "Napisz funkcję o nazwie bool_range, która robi to samo, ale zwraca tylko wartość logiczną."
      ]
    },
    {
      "cell_type": "code",
      "execution_count": 21,
      "metadata": {
        "id": "oIoJlVTEVy4R"
      },
      "outputs": [],
      "source": [
        "def bool_range (x, y, z):\n",
        "  if x>=y and x<=z:\n",
        "    return True\n",
        "  else:\n",
        "    return False"
      ]
    },
    {
      "cell_type": "code",
      "execution_count": 22,
      "metadata": {
        "colab": {
          "base_uri": "https://localhost:8080/"
        },
        "id": "tcINyBn3Vy4S",
        "outputId": "e4f2e03d-5482-42ad-dac0-524626012b94"
      },
      "outputs": [
        {
          "output_type": "execute_result",
          "data": {
            "text/plain": [
              "True"
            ]
          },
          "metadata": {},
          "execution_count": 22
        }
      ],
      "source": [
        "bool_range(7, 5, 20)"
      ]
    },
    {
      "cell_type": "code",
      "execution_count": 23,
      "metadata": {
        "colab": {
          "base_uri": "https://localhost:8080/"
        },
        "id": "7Hbcuur3Vy4S",
        "outputId": "410e44a5-47e1-4135-81bd-c653316bbad2"
      },
      "outputs": [
        {
          "output_type": "execute_result",
          "data": {
            "text/plain": [
              "False"
            ]
          },
          "metadata": {},
          "execution_count": 23
        }
      ],
      "source": [
        "bool_range(67, 22, 25)"
      ]
    },
    {
      "cell_type": "markdown",
      "metadata": {
        "id": "C4so4q85Vy4T"
      },
      "source": [
        "## Ćwiczenie 2"
      ]
    },
    {
      "cell_type": "markdown",
      "metadata": {
        "id": "vs1e-xM1Vy4T"
      },
      "source": [
        "Napisz funkcję o nazwie unique_list, która pobiera listę i zwraca listę zawierającą tylko unikalne elementy danych wejściowych."
      ]
    },
    {
      "cell_type": "code",
      "execution_count": 26,
      "metadata": {
        "id": "VV4VuAimVy4U"
      },
      "outputs": [],
      "source": [
        "def unique_list(entry_list):\n",
        "  new_list = list(set(entry_list))\n",
        "  return new_list"
      ]
    },
    {
      "cell_type": "code",
      "execution_count": 27,
      "metadata": {
        "colab": {
          "base_uri": "https://localhost:8080/"
        },
        "id": "mH24TGWZVy4U",
        "outputId": "86c5508e-b85b-4fba-dd80-f007c754b918"
      },
      "outputs": [
        {
          "output_type": "execute_result",
          "data": {
            "text/plain": [
              "[1, 2, 3, 4, 5, 6, 12, 63]"
            ]
          },
          "metadata": {},
          "execution_count": 27
        }
      ],
      "source": [
        "my_list = [1,3,5,6,4,3,2,3,3,4,3,4,5,6,6,4,3,2,12,3,5,63,4,5,3,3,2]\n",
        "\n",
        "unique_list(my_list)"
      ]
    },
    {
      "cell_type": "markdown",
      "metadata": {
        "id": "KOR-lkXYVy4U"
      },
      "source": [
        "Znajdź inny sposób wykonania tej samej operacji bez definiowania funkcji."
      ]
    },
    {
      "cell_type": "code",
      "execution_count": 29,
      "metadata": {
        "colab": {
          "base_uri": "https://localhost:8080/"
        },
        "id": "haJKXba9Vy4U",
        "outputId": "ca2cb982-a5fd-4acb-c327-ecaa0c87e571"
      },
      "outputs": [
        {
          "output_type": "stream",
          "name": "stdout",
          "text": [
            "[1, 2, 3, 4, 5, 6, 12, 63]\n"
          ]
        }
      ],
      "source": [
        "print(list(set(my_list)))"
      ]
    },
    {
      "cell_type": "markdown",
      "metadata": {
        "id": "JbR_TJSxVy4V"
      },
      "source": [
        "## Ćwiczenie 3"
      ]
    },
    {
      "cell_type": "markdown",
      "metadata": {
        "id": "meBp1NqRVy4V"
      },
      "source": [
        "Napisz funkcję o nazwie objętość_kuli, która przyjmuje promień kuli i zwraca jej objętość zaokrągloną do 2 dp. (Google wzór na objętość kuli, użyj pi = 3,14)"
      ]
    },
    {
      "cell_type": "code",
      "execution_count": 45,
      "metadata": {
        "id": "ZIqC5812Vy4V"
      },
      "outputs": [],
      "source": [
        "pi = 3.14\n",
        "\n",
        "def objetosc_kuli(radius):\n",
        "  return round(4/3*pi*radius**3, 2)"
      ]
    },
    {
      "cell_type": "code",
      "execution_count": 46,
      "metadata": {
        "colab": {
          "base_uri": "https://localhost:8080/"
        },
        "id": "BmzrcfzjVy4W",
        "outputId": "88b8bb7f-9d35-462b-d2af-7b46af572003"
      },
      "outputs": [
        {
          "output_type": "execute_result",
          "data": {
            "text/plain": [
              "33.49"
            ]
          },
          "metadata": {},
          "execution_count": 46
        }
      ],
      "source": [
        "objetosc_kuli(2)"
      ]
    },
    {
      "cell_type": "code",
      "execution_count": 47,
      "metadata": {
        "colab": {
          "base_uri": "https://localhost:8080/"
        },
        "id": "Jl-xGQMWVy4W",
        "outputId": "dc6b75bb-fd8c-4849-bee0-950888ae87af"
      },
      "outputs": [
        {
          "output_type": "execute_result",
          "data": {
            "text/plain": [
              "40858.46"
            ]
          },
          "metadata": {},
          "execution_count": 47
        }
      ],
      "source": [
        "objetosc_kuli(21.37)"
      ]
    },
    {
      "cell_type": "markdown",
      "metadata": {
        "id": "WP8ZKzkSVy4X"
      },
      "source": [
        "## Rekursja"
      ]
    },
    {
      "cell_type": "markdown",
      "metadata": {
        "id": "lq1HsFWGVy4Y"
      },
      "source": [
        "- Funkcja rekurencyjna to funkcja, która wywołuje siebie w ramach swojej definicji.\n",
        "- Na początku może to być trudne do zrozumienia, ale pomyśl o tym jako o przełamaniu dużego problemu w wielokrotne robienie małego problemu.\n",
        "- Oznacza to, że złożony problem można uprościć, powtarzając przy każdym powtórzeniu prostszą i prostszą formę tego samego problemu.\n",
        "- Musimy jednak podać „najprostszą formę” funkcji, w której funkcja się zatrzymuje, w przeciwnym razie będzie się powtarzać w nieskończoność i wygeneruje błąd.\n",
        "- Nazywamy tę „najprostszą formę” przypadkiem podstawowym.\n",
        "- Najlepiej ilustruje to przykład:"
      ]
    },
    {
      "cell_type": "code",
      "execution_count": 48,
      "metadata": {
        "colab": {
          "base_uri": "https://localhost:8080/"
        },
        "id": "06R79ZdbVy4a",
        "outputId": "82b10c8f-7b7f-4527-ea57-44ab506e62b9"
      },
      "outputs": [
        {
          "output_type": "stream",
          "name": "stdout",
          "text": [
            "5\n",
            "4\n",
            "3\n",
            "2\n",
            "1\n",
            "0\n"
          ]
        }
      ],
      "source": [
        "# Funkcja, która przyjmuje jako wejście liczbę początkową do odliczania\n",
        "def countdown(n):\n",
        "    \n",
        "    # przypadek podstawowy: w tym miejscu funkcja ostatecznie się zatrzyma\n",
        "    if n == 0:\n",
        "        print(0)\n",
        "        \n",
        "    # tutaj redukujemy problem do prostszej wersji\n",
        "    else:\n",
        "        \n",
        "        #wypisujemy numer odliczania\n",
        "        print(n)\n",
        "        \n",
        "        # powtarzamy funkcję z następną najmniejszą liczbą\n",
        "        countdown(n-1)\n",
        "        \n",
        "\n",
        "countdown(5)"
      ]
    },
    {
      "cell_type": "code",
      "execution_count": 48,
      "metadata": {
        "id": "8SZ10-CCVy4b"
      },
      "outputs": [],
      "source": []
    },
    {
      "cell_type": "markdown",
      "metadata": {
        "id": "xibzNQibVy4c"
      },
      "source": [
        "## Ćwiczenie 4"
      ]
    },
    {
      "cell_type": "markdown",
      "metadata": {
        "id": "lghR1ZqLVy4d"
      },
      "source": [
        "Zdefiniuj funkcję rekurencyjną o nazwie num_fact, która zwraca silnię podanej liczby."
      ]
    },
    {
      "cell_type": "code",
      "execution_count": 60,
      "metadata": {
        "id": "jCe8hzuvVy4d"
      },
      "outputs": [],
      "source": [
        "def num_fact(number):\n",
        "  if number==0:\n",
        "    return 1\n",
        "  elif number<0:\n",
        "    return \"Nie można wyznaczyć silni\"\n",
        "  else:\n",
        "    return num_fact(number-1)*number"
      ]
    },
    {
      "cell_type": "code",
      "execution_count": 55,
      "metadata": {
        "colab": {
          "base_uri": "https://localhost:8080/"
        },
        "id": "Wr1RrAQSVy4e",
        "outputId": "eabb475e-0272-4a71-fe71-634fec3c0bd5"
      },
      "outputs": [
        {
          "output_type": "execute_result",
          "data": {
            "text/plain": [
              "3628800"
            ]
          },
          "metadata": {},
          "execution_count": 55
        }
      ],
      "source": [
        "num_fact(10)"
      ]
    },
    {
      "cell_type": "code",
      "execution_count": 67,
      "metadata": {
        "colab": {
          "base_uri": "https://localhost:8080/"
        },
        "id": "OJVXnoHEVy4e",
        "outputId": "3ec23746-e1d8-4abe-f997-cac06b997534"
      },
      "outputs": [
        {
          "output_type": "execute_result",
          "data": {
            "text/plain": [
              "120"
            ]
          },
          "metadata": {},
          "execution_count": 67
        }
      ],
      "source": [
        "num_fact(5)"
      ]
    },
    {
      "cell_type": "markdown",
      "metadata": {
        "id": "j8XjcaCIVy4e"
      },
      "source": [
        "## Dalsza lektura\n",
        "- Python Function Definitions: https://docs.python.org/3/reference/compound_stmts.html#function-definitions\n",
        "- Python Docstring Conventions: https://www.python.org/dev/peps/pep-0257/"
      ]
    },
    {
      "cell_type": "code",
      "execution_count": null,
      "metadata": {
        "id": "WFvxDXuaVy4f"
      },
      "outputs": [],
      "source": []
    }
  ],
  "metadata": {
    "kernelspec": {
      "display_name": "Python 3",
      "language": "python",
      "name": "python3"
    },
    "language_info": {
      "codemirror_mode": {
        "name": "ipython",
        "version": 3
      },
      "file_extension": ".py",
      "mimetype": "text/x-python",
      "name": "python",
      "nbconvert_exporter": "python",
      "pygments_lexer": "ipython3",
      "version": "3.7.6"
    },
    "colab": {
      "provenance": []
    }
  },
  "nbformat": 4,
  "nbformat_minor": 0
}